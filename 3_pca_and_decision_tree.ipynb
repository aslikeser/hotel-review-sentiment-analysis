{
 "cells": [
  {
   "cell_type": "markdown",
   "id": "a4aa651e",
   "metadata": {},
   "source": [
    "<div id=\"container\" style=\"position:relative;\">\n",
    "<div style=\"float:left\"><h1> Owner: Asli Keser </h1></div>  \n",
    "      <div style=\"clear:both;\"></div> \n",
    "<div style=\"float:left\"><h2> Unit3Deliverable#5 - NLP With Hotel Review - Q4 & Q5 </h2></div>\n",
    "<div style=\"position:relative; float:right\"><img style=\"height:65px\" src =\"data:image/png;base64,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\" />\n",
    "</div>\n",
    "</div>\n",
    "</div>"
   ]
  },
  {
   "cell_type": "code",
   "execution_count": 1,
   "id": "51f6c1a4",
   "metadata": {},
   "outputs": [],
   "source": [
    "import numpy as np\n",
    "import pandas as pd\n",
    "import matplotlib.pyplot as plt\n",
    "from sklearn.model_selection import train_test_split\n",
    "from sklearn.preprocessing import StandardScaler, MinMaxScaler\n",
    "from sklearn.tree import DecisionTreeClassifier\n",
    "from sklearn.pipeline import Pipeline\n",
    "from sklearn.decomposition import PCA\n",
    "from sklearn.model_selection import GridSearchCV\n",
    "from sklearn.model_selection import cross_val_score"
   ]
  },
  {
   "cell_type": "code",
   "execution_count": 2,
   "id": "2cf5bd6c",
   "metadata": {},
   "outputs": [],
   "source": [
    "# Read test and train CSVs to DataFrames\n",
    "X_train_df = pd.read_csv('final_train_df.csv') \n",
    "X_test_df = pd.read_csv('final_test_df.csv') \n",
    "y_train = pd.read_csv('final_y_train.csv') \n",
    "y_test = pd.read_csv('final_y_test.csv') "
   ]
  },
  {
   "cell_type": "code",
   "execution_count": 3,
   "id": "380d58de",
   "metadata": {},
   "outputs": [
    {
     "data": {
      "text/html": [
       "<div>\n",
       "<style scoped>\n",
       "    .dataframe tbody tr th:only-of-type {\n",
       "        vertical-align: middle;\n",
       "    }\n",
       "\n",
       "    .dataframe tbody tr th {\n",
       "        vertical-align: top;\n",
       "    }\n",
       "\n",
       "    .dataframe thead th {\n",
       "        text-align: right;\n",
       "    }\n",
       "</style>\n",
       "<table border=\"1\" class=\"dataframe\">\n",
       "  <thead>\n",
       "    <tr style=\"text-align: right;\">\n",
       "      <th></th>\n",
       "      <th>Additional_Number_of_Scoring</th>\n",
       "      <th>Average_Score</th>\n",
       "      <th>Review_Total_Negative_Word_Counts</th>\n",
       "      <th>Total_Number_of_Reviews</th>\n",
       "      <th>Review_Total_Positive_Word_Counts</th>\n",
       "      <th>Total_Number_of_Reviews_Reviewer_Has_Given</th>\n",
       "      <th>Days_Since_Review</th>\n",
       "      <th>Latitude</th>\n",
       "      <th>Longitude</th>\n",
       "      <th>Day</th>\n",
       "      <th>...</th>\n",
       "      <th>NEG_wi</th>\n",
       "      <th>NEG_wifi</th>\n",
       "      <th>NEG_window</th>\n",
       "      <th>NEG_without</th>\n",
       "      <th>NEG_work</th>\n",
       "      <th>NEG_worst</th>\n",
       "      <th>NEG_worth</th>\n",
       "      <th>NEG_would</th>\n",
       "      <th>NEG_wrong</th>\n",
       "      <th>NEG_year</th>\n",
       "    </tr>\n",
       "  </thead>\n",
       "  <tbody>\n",
       "    <tr>\n",
       "      <th>0</th>\n",
       "      <td>392</td>\n",
       "      <td>8.8</td>\n",
       "      <td>35</td>\n",
       "      <td>1803</td>\n",
       "      <td>34</td>\n",
       "      <td>17</td>\n",
       "      <td>114</td>\n",
       "      <td>51.529441</td>\n",
       "      <td>-0.123374</td>\n",
       "      <td>11</td>\n",
       "      <td>...</td>\n",
       "      <td>0</td>\n",
       "      <td>0</td>\n",
       "      <td>2</td>\n",
       "      <td>0</td>\n",
       "      <td>0</td>\n",
       "      <td>0</td>\n",
       "      <td>0</td>\n",
       "      <td>1</td>\n",
       "      <td>0</td>\n",
       "      <td>0</td>\n",
       "    </tr>\n",
       "    <tr>\n",
       "      <th>1</th>\n",
       "      <td>556</td>\n",
       "      <td>8.0</td>\n",
       "      <td>17</td>\n",
       "      <td>2347</td>\n",
       "      <td>0</td>\n",
       "      <td>1</td>\n",
       "      <td>163</td>\n",
       "      <td>51.526535</td>\n",
       "      <td>-0.136168</td>\n",
       "      <td>21</td>\n",
       "      <td>...</td>\n",
       "      <td>0</td>\n",
       "      <td>0</td>\n",
       "      <td>0</td>\n",
       "      <td>0</td>\n",
       "      <td>0</td>\n",
       "      <td>0</td>\n",
       "      <td>0</td>\n",
       "      <td>0</td>\n",
       "      <td>0</td>\n",
       "      <td>0</td>\n",
       "    </tr>\n",
       "    <tr>\n",
       "      <th>2</th>\n",
       "      <td>102</td>\n",
       "      <td>9.6</td>\n",
       "      <td>6</td>\n",
       "      <td>604</td>\n",
       "      <td>74</td>\n",
       "      <td>7</td>\n",
       "      <td>640</td>\n",
       "      <td>41.380181</td>\n",
       "      <td>2.180688</td>\n",
       "      <td>2</td>\n",
       "      <td>...</td>\n",
       "      <td>0</td>\n",
       "      <td>0</td>\n",
       "      <td>0</td>\n",
       "      <td>0</td>\n",
       "      <td>0</td>\n",
       "      <td>0</td>\n",
       "      <td>0</td>\n",
       "      <td>0</td>\n",
       "      <td>0</td>\n",
       "      <td>0</td>\n",
       "    </tr>\n",
       "    <tr>\n",
       "      <th>3</th>\n",
       "      <td>128</td>\n",
       "      <td>8.4</td>\n",
       "      <td>53</td>\n",
       "      <td>1472</td>\n",
       "      <td>11</td>\n",
       "      <td>6</td>\n",
       "      <td>703</td>\n",
       "      <td>41.391717</td>\n",
       "      <td>2.159261</td>\n",
       "      <td>31</td>\n",
       "      <td>...</td>\n",
       "      <td>0</td>\n",
       "      <td>0</td>\n",
       "      <td>0</td>\n",
       "      <td>0</td>\n",
       "      <td>0</td>\n",
       "      <td>0</td>\n",
       "      <td>0</td>\n",
       "      <td>0</td>\n",
       "      <td>0</td>\n",
       "      <td>0</td>\n",
       "    </tr>\n",
       "    <tr>\n",
       "      <th>4</th>\n",
       "      <td>620</td>\n",
       "      <td>9.0</td>\n",
       "      <td>7</td>\n",
       "      <td>1974</td>\n",
       "      <td>5</td>\n",
       "      <td>1</td>\n",
       "      <td>222</td>\n",
       "      <td>51.506558</td>\n",
       "      <td>-0.004514</td>\n",
       "      <td>24</td>\n",
       "      <td>...</td>\n",
       "      <td>0</td>\n",
       "      <td>0</td>\n",
       "      <td>0</td>\n",
       "      <td>0</td>\n",
       "      <td>0</td>\n",
       "      <td>0</td>\n",
       "      <td>0</td>\n",
       "      <td>0</td>\n",
       "      <td>0</td>\n",
       "      <td>0</td>\n",
       "    </tr>\n",
       "  </tbody>\n",
       "</table>\n",
       "<p>5 rows × 1026 columns</p>\n",
       "</div>"
      ],
      "text/plain": [
       "   Additional_Number_of_Scoring  Average_Score  \\\n",
       "0                           392            8.8   \n",
       "1                           556            8.0   \n",
       "2                           102            9.6   \n",
       "3                           128            8.4   \n",
       "4                           620            9.0   \n",
       "\n",
       "   Review_Total_Negative_Word_Counts  Total_Number_of_Reviews  \\\n",
       "0                                 35                     1803   \n",
       "1                                 17                     2347   \n",
       "2                                  6                      604   \n",
       "3                                 53                     1472   \n",
       "4                                  7                     1974   \n",
       "\n",
       "   Review_Total_Positive_Word_Counts  \\\n",
       "0                                 34   \n",
       "1                                  0   \n",
       "2                                 74   \n",
       "3                                 11   \n",
       "4                                  5   \n",
       "\n",
       "   Total_Number_of_Reviews_Reviewer_Has_Given  Days_Since_Review   Latitude  \\\n",
       "0                                          17                114  51.529441   \n",
       "1                                           1                163  51.526535   \n",
       "2                                           7                640  41.380181   \n",
       "3                                           6                703  41.391717   \n",
       "4                                           1                222  51.506558   \n",
       "\n",
       "   Longitude  Day  ...  NEG_wi  NEG_wifi  NEG_window  NEG_without  NEG_work  \\\n",
       "0  -0.123374   11  ...       0         0           2            0         0   \n",
       "1  -0.136168   21  ...       0         0           0            0         0   \n",
       "2   2.180688    2  ...       0         0           0            0         0   \n",
       "3   2.159261   31  ...       0         0           0            0         0   \n",
       "4  -0.004514   24  ...       0         0           0            0         0   \n",
       "\n",
       "   NEG_worst  NEG_worth  NEG_would  NEG_wrong  NEG_year  \n",
       "0          0          0          1          0         0  \n",
       "1          0          0          0          0         0  \n",
       "2          0          0          0          0         0  \n",
       "3          0          0          0          0         0  \n",
       "4          0          0          0          0         0  \n",
       "\n",
       "[5 rows x 1026 columns]"
      ]
     },
     "execution_count": 3,
     "metadata": {},
     "output_type": "execute_result"
    }
   ],
   "source": [
    "X_train_df.head()"
   ]
  },
  {
   "cell_type": "code",
   "execution_count": 4,
   "id": "3dffe207",
   "metadata": {},
   "outputs": [
    {
     "data": {
      "text/plain": [
       "(360639, 1026)"
      ]
     },
     "execution_count": 4,
     "metadata": {},
     "output_type": "execute_result"
    }
   ],
   "source": [
    "X_train_df.shape"
   ]
  },
  {
   "cell_type": "code",
   "execution_count": 5,
   "id": "7590b204",
   "metadata": {},
   "outputs": [
    {
     "data": {
      "text/html": [
       "<div>\n",
       "<style scoped>\n",
       "    .dataframe tbody tr th:only-of-type {\n",
       "        vertical-align: middle;\n",
       "    }\n",
       "\n",
       "    .dataframe tbody tr th {\n",
       "        vertical-align: top;\n",
       "    }\n",
       "\n",
       "    .dataframe thead th {\n",
       "        text-align: right;\n",
       "    }\n",
       "</style>\n",
       "<table border=\"1\" class=\"dataframe\">\n",
       "  <thead>\n",
       "    <tr style=\"text-align: right;\">\n",
       "      <th></th>\n",
       "      <th>Additional_Number_of_Scoring</th>\n",
       "      <th>Average_Score</th>\n",
       "      <th>Review_Total_Negative_Word_Counts</th>\n",
       "      <th>Total_Number_of_Reviews</th>\n",
       "      <th>Review_Total_Positive_Word_Counts</th>\n",
       "      <th>Total_Number_of_Reviews_Reviewer_Has_Given</th>\n",
       "      <th>Days_Since_Review</th>\n",
       "      <th>Latitude</th>\n",
       "      <th>Longitude</th>\n",
       "      <th>Day</th>\n",
       "      <th>...</th>\n",
       "      <th>NEG_wi</th>\n",
       "      <th>NEG_wifi</th>\n",
       "      <th>NEG_window</th>\n",
       "      <th>NEG_without</th>\n",
       "      <th>NEG_work</th>\n",
       "      <th>NEG_worst</th>\n",
       "      <th>NEG_worth</th>\n",
       "      <th>NEG_would</th>\n",
       "      <th>NEG_wrong</th>\n",
       "      <th>NEG_year</th>\n",
       "    </tr>\n",
       "  </thead>\n",
       "  <tbody>\n",
       "    <tr>\n",
       "      <th>0</th>\n",
       "      <td>36</td>\n",
       "      <td>7.0</td>\n",
       "      <td>19</td>\n",
       "      <td>251</td>\n",
       "      <td>2</td>\n",
       "      <td>1</td>\n",
       "      <td>297</td>\n",
       "      <td>48.872967</td>\n",
       "      <td>2.292623</td>\n",
       "      <td>10</td>\n",
       "      <td>...</td>\n",
       "      <td>0</td>\n",
       "      <td>0</td>\n",
       "      <td>0</td>\n",
       "      <td>0</td>\n",
       "      <td>1</td>\n",
       "      <td>0</td>\n",
       "      <td>0</td>\n",
       "      <td>0</td>\n",
       "      <td>0</td>\n",
       "      <td>0</td>\n",
       "    </tr>\n",
       "    <tr>\n",
       "      <th>1</th>\n",
       "      <td>687</td>\n",
       "      <td>8.9</td>\n",
       "      <td>287</td>\n",
       "      <td>2752</td>\n",
       "      <td>21</td>\n",
       "      <td>16</td>\n",
       "      <td>472</td>\n",
       "      <td>51.515052</td>\n",
       "      <td>-0.159239</td>\n",
       "      <td>18</td>\n",
       "      <td>...</td>\n",
       "      <td>0</td>\n",
       "      <td>0</td>\n",
       "      <td>0</td>\n",
       "      <td>0</td>\n",
       "      <td>1</td>\n",
       "      <td>0</td>\n",
       "      <td>0</td>\n",
       "      <td>1</td>\n",
       "      <td>0</td>\n",
       "      <td>0</td>\n",
       "    </tr>\n",
       "    <tr>\n",
       "      <th>2</th>\n",
       "      <td>1831</td>\n",
       "      <td>8.1</td>\n",
       "      <td>7</td>\n",
       "      <td>7105</td>\n",
       "      <td>26</td>\n",
       "      <td>1</td>\n",
       "      <td>148</td>\n",
       "      <td>51.499046</td>\n",
       "      <td>-0.191707</td>\n",
       "      <td>8</td>\n",
       "      <td>...</td>\n",
       "      <td>0</td>\n",
       "      <td>0</td>\n",
       "      <td>0</td>\n",
       "      <td>0</td>\n",
       "      <td>0</td>\n",
       "      <td>0</td>\n",
       "      <td>0</td>\n",
       "      <td>0</td>\n",
       "      <td>0</td>\n",
       "      <td>1</td>\n",
       "    </tr>\n",
       "    <tr>\n",
       "      <th>3</th>\n",
       "      <td>2623</td>\n",
       "      <td>8.7</td>\n",
       "      <td>14</td>\n",
       "      <td>12158</td>\n",
       "      <td>6</td>\n",
       "      <td>3</td>\n",
       "      <td>150</td>\n",
       "      <td>51.500961</td>\n",
       "      <td>-0.116591</td>\n",
       "      <td>6</td>\n",
       "      <td>...</td>\n",
       "      <td>0</td>\n",
       "      <td>0</td>\n",
       "      <td>0</td>\n",
       "      <td>0</td>\n",
       "      <td>0</td>\n",
       "      <td>0</td>\n",
       "      <td>0</td>\n",
       "      <td>0</td>\n",
       "      <td>0</td>\n",
       "      <td>0</td>\n",
       "    </tr>\n",
       "    <tr>\n",
       "      <th>4</th>\n",
       "      <td>26</td>\n",
       "      <td>5.2</td>\n",
       "      <td>14</td>\n",
       "      <td>465</td>\n",
       "      <td>0</td>\n",
       "      <td>6</td>\n",
       "      <td>668</td>\n",
       "      <td>45.450867</td>\n",
       "      <td>9.194866</td>\n",
       "      <td>5</td>\n",
       "      <td>...</td>\n",
       "      <td>0</td>\n",
       "      <td>0</td>\n",
       "      <td>0</td>\n",
       "      <td>0</td>\n",
       "      <td>0</td>\n",
       "      <td>0</td>\n",
       "      <td>0</td>\n",
       "      <td>0</td>\n",
       "      <td>0</td>\n",
       "      <td>0</td>\n",
       "    </tr>\n",
       "  </tbody>\n",
       "</table>\n",
       "<p>5 rows × 1026 columns</p>\n",
       "</div>"
      ],
      "text/plain": [
       "   Additional_Number_of_Scoring  Average_Score  \\\n",
       "0                            36            7.0   \n",
       "1                           687            8.9   \n",
       "2                          1831            8.1   \n",
       "3                          2623            8.7   \n",
       "4                            26            5.2   \n",
       "\n",
       "   Review_Total_Negative_Word_Counts  Total_Number_of_Reviews  \\\n",
       "0                                 19                      251   \n",
       "1                                287                     2752   \n",
       "2                                  7                     7105   \n",
       "3                                 14                    12158   \n",
       "4                                 14                      465   \n",
       "\n",
       "   Review_Total_Positive_Word_Counts  \\\n",
       "0                                  2   \n",
       "1                                 21   \n",
       "2                                 26   \n",
       "3                                  6   \n",
       "4                                  0   \n",
       "\n",
       "   Total_Number_of_Reviews_Reviewer_Has_Given  Days_Since_Review   Latitude  \\\n",
       "0                                           1                297  48.872967   \n",
       "1                                          16                472  51.515052   \n",
       "2                                           1                148  51.499046   \n",
       "3                                           3                150  51.500961   \n",
       "4                                           6                668  45.450867   \n",
       "\n",
       "   Longitude  Day  ...  NEG_wi  NEG_wifi  NEG_window  NEG_without  NEG_work  \\\n",
       "0   2.292623   10  ...       0         0           0            0         1   \n",
       "1  -0.159239   18  ...       0         0           0            0         1   \n",
       "2  -0.191707    8  ...       0         0           0            0         0   \n",
       "3  -0.116591    6  ...       0         0           0            0         0   \n",
       "4   9.194866    5  ...       0         0           0            0         0   \n",
       "\n",
       "   NEG_worst  NEG_worth  NEG_would  NEG_wrong  NEG_year  \n",
       "0          0          0          0          0         0  \n",
       "1          0          0          1          0         0  \n",
       "2          0          0          0          0         1  \n",
       "3          0          0          0          0         0  \n",
       "4          0          0          0          0         0  \n",
       "\n",
       "[5 rows x 1026 columns]"
      ]
     },
     "execution_count": 5,
     "metadata": {},
     "output_type": "execute_result"
    }
   ],
   "source": [
    "X_test_df.head()"
   ]
  },
  {
   "cell_type": "code",
   "execution_count": 6,
   "id": "e3690c8b",
   "metadata": {},
   "outputs": [
    {
     "data": {
      "text/plain": [
       "(154560, 1026)"
      ]
     },
     "execution_count": 6,
     "metadata": {},
     "output_type": "execute_result"
    }
   ],
   "source": [
    "X_test_df.shape"
   ]
  },
  {
   "cell_type": "code",
   "execution_count": 7,
   "id": "68f8e1c6",
   "metadata": {},
   "outputs": [
    {
     "data": {
      "text/html": [
       "<div>\n",
       "<style scoped>\n",
       "    .dataframe tbody tr th:only-of-type {\n",
       "        vertical-align: middle;\n",
       "    }\n",
       "\n",
       "    .dataframe tbody tr th {\n",
       "        vertical-align: top;\n",
       "    }\n",
       "\n",
       "    .dataframe thead th {\n",
       "        text-align: right;\n",
       "    }\n",
       "</style>\n",
       "<table border=\"1\" class=\"dataframe\">\n",
       "  <thead>\n",
       "    <tr style=\"text-align: right;\">\n",
       "      <th></th>\n",
       "      <th>Reviewer_Score</th>\n",
       "    </tr>\n",
       "  </thead>\n",
       "  <tbody>\n",
       "    <tr>\n",
       "      <th>0</th>\n",
       "      <td>0</td>\n",
       "    </tr>\n",
       "    <tr>\n",
       "      <th>1</th>\n",
       "      <td>0</td>\n",
       "    </tr>\n",
       "    <tr>\n",
       "      <th>2</th>\n",
       "      <td>1</td>\n",
       "    </tr>\n",
       "    <tr>\n",
       "      <th>3</th>\n",
       "      <td>1</td>\n",
       "    </tr>\n",
       "    <tr>\n",
       "      <th>4</th>\n",
       "      <td>0</td>\n",
       "    </tr>\n",
       "  </tbody>\n",
       "</table>\n",
       "</div>"
      ],
      "text/plain": [
       "   Reviewer_Score\n",
       "0               0\n",
       "1               0\n",
       "2               1\n",
       "3               1\n",
       "4               0"
      ]
     },
     "execution_count": 7,
     "metadata": {},
     "output_type": "execute_result"
    }
   ],
   "source": [
    "y_train.head()"
   ]
  },
  {
   "cell_type": "code",
   "execution_count": 8,
   "id": "1e2b1ab0",
   "metadata": {},
   "outputs": [
    {
     "data": {
      "text/plain": [
       "(360639, 1)"
      ]
     },
     "execution_count": 8,
     "metadata": {},
     "output_type": "execute_result"
    }
   ],
   "source": [
    "y_train.shape"
   ]
  },
  {
   "cell_type": "code",
   "execution_count": 9,
   "id": "1854c1e3",
   "metadata": {},
   "outputs": [
    {
     "data": {
      "text/html": [
       "<div>\n",
       "<style scoped>\n",
       "    .dataframe tbody tr th:only-of-type {\n",
       "        vertical-align: middle;\n",
       "    }\n",
       "\n",
       "    .dataframe tbody tr th {\n",
       "        vertical-align: top;\n",
       "    }\n",
       "\n",
       "    .dataframe thead th {\n",
       "        text-align: right;\n",
       "    }\n",
       "</style>\n",
       "<table border=\"1\" class=\"dataframe\">\n",
       "  <thead>\n",
       "    <tr style=\"text-align: right;\">\n",
       "      <th></th>\n",
       "      <th>Reviewer_Score</th>\n",
       "    </tr>\n",
       "  </thead>\n",
       "  <tbody>\n",
       "    <tr>\n",
       "      <th>0</th>\n",
       "      <td>0</td>\n",
       "    </tr>\n",
       "    <tr>\n",
       "      <th>1</th>\n",
       "      <td>0</td>\n",
       "    </tr>\n",
       "    <tr>\n",
       "      <th>2</th>\n",
       "      <td>1</td>\n",
       "    </tr>\n",
       "    <tr>\n",
       "      <th>3</th>\n",
       "      <td>0</td>\n",
       "    </tr>\n",
       "    <tr>\n",
       "      <th>4</th>\n",
       "      <td>0</td>\n",
       "    </tr>\n",
       "  </tbody>\n",
       "</table>\n",
       "</div>"
      ],
      "text/plain": [
       "   Reviewer_Score\n",
       "0               0\n",
       "1               0\n",
       "2               1\n",
       "3               0\n",
       "4               0"
      ]
     },
     "execution_count": 9,
     "metadata": {},
     "output_type": "execute_result"
    }
   ],
   "source": [
    "y_test.head()"
   ]
  },
  {
   "cell_type": "code",
   "execution_count": 10,
   "id": "db8982bc",
   "metadata": {},
   "outputs": [
    {
     "data": {
      "text/plain": [
       "(154560, 1)"
      ]
     },
     "execution_count": 10,
     "metadata": {},
     "output_type": "execute_result"
    }
   ],
   "source": [
    "y_test.shape"
   ]
  },
  {
   "cell_type": "markdown",
   "id": "e30f2eae",
   "metadata": {},
   "source": [
    "# Modelling (cont.)"
   ]
  },
  {
   "cell_type": "markdown",
   "id": "a49643ed",
   "metadata": {},
   "source": [
    "4. Using a pipeline, combine PCA with a decision tree classifier.\n",
    "\n",
    "- Optimize at least 3 hyperparameters including the maximum tree depth and the minimum number of data points required on each leaf node.\n",
    "- You can use 20 principle components.\n",
    "- The best parameters should be found using 5-fold cross validation.\n",
    "\n",
    "Contrast the best results here with the logistic regression model and provide any insights that you may draw from the results."
   ]
  },
  {
   "cell_type": "markdown",
   "id": "4176dd93",
   "metadata": {},
   "source": [
    "### Find the optimum maximum tree depth "
   ]
  },
  {
   "cell_type": "code",
   "execution_count": 11,
   "id": "851f8f25",
   "metadata": {},
   "outputs": [
    {
     "data": {
      "text/html": [
       "<style>#sk-container-id-1 {color: black;}#sk-container-id-1 pre{padding: 0;}#sk-container-id-1 div.sk-toggleable {background-color: white;}#sk-container-id-1 label.sk-toggleable__label {cursor: pointer;display: block;width: 100%;margin-bottom: 0;padding: 0.3em;box-sizing: border-box;text-align: center;}#sk-container-id-1 label.sk-toggleable__label-arrow:before {content: \"▸\";float: left;margin-right: 0.25em;color: #696969;}#sk-container-id-1 label.sk-toggleable__label-arrow:hover:before {color: black;}#sk-container-id-1 div.sk-estimator:hover label.sk-toggleable__label-arrow:before {color: black;}#sk-container-id-1 div.sk-toggleable__content {max-height: 0;max-width: 0;overflow: hidden;text-align: left;background-color: #f0f8ff;}#sk-container-id-1 div.sk-toggleable__content pre {margin: 0.2em;color: black;border-radius: 0.25em;background-color: #f0f8ff;}#sk-container-id-1 input.sk-toggleable__control:checked~div.sk-toggleable__content {max-height: 200px;max-width: 100%;overflow: auto;}#sk-container-id-1 input.sk-toggleable__control:checked~label.sk-toggleable__label-arrow:before {content: \"▾\";}#sk-container-id-1 div.sk-estimator input.sk-toggleable__control:checked~label.sk-toggleable__label {background-color: #d4ebff;}#sk-container-id-1 div.sk-label input.sk-toggleable__control:checked~label.sk-toggleable__label {background-color: #d4ebff;}#sk-container-id-1 input.sk-hidden--visually {border: 0;clip: rect(1px 1px 1px 1px);clip: rect(1px, 1px, 1px, 1px);height: 1px;margin: -1px;overflow: hidden;padding: 0;position: absolute;width: 1px;}#sk-container-id-1 div.sk-estimator {font-family: monospace;background-color: #f0f8ff;border: 1px dotted black;border-radius: 0.25em;box-sizing: border-box;margin-bottom: 0.5em;}#sk-container-id-1 div.sk-estimator:hover {background-color: #d4ebff;}#sk-container-id-1 div.sk-parallel-item::after {content: \"\";width: 100%;border-bottom: 1px solid gray;flex-grow: 1;}#sk-container-id-1 div.sk-label:hover label.sk-toggleable__label {background-color: #d4ebff;}#sk-container-id-1 div.sk-serial::before {content: \"\";position: absolute;border-left: 1px solid gray;box-sizing: border-box;top: 0;bottom: 0;left: 50%;z-index: 0;}#sk-container-id-1 div.sk-serial {display: flex;flex-direction: column;align-items: center;background-color: white;padding-right: 0.2em;padding-left: 0.2em;position: relative;}#sk-container-id-1 div.sk-item {position: relative;z-index: 1;}#sk-container-id-1 div.sk-parallel {display: flex;align-items: stretch;justify-content: center;background-color: white;position: relative;}#sk-container-id-1 div.sk-item::before, #sk-container-id-1 div.sk-parallel-item::before {content: \"\";position: absolute;border-left: 1px solid gray;box-sizing: border-box;top: 0;bottom: 0;left: 50%;z-index: -1;}#sk-container-id-1 div.sk-parallel-item {display: flex;flex-direction: column;z-index: 1;position: relative;background-color: white;}#sk-container-id-1 div.sk-parallel-item:first-child::after {align-self: flex-end;width: 50%;}#sk-container-id-1 div.sk-parallel-item:last-child::after {align-self: flex-start;width: 50%;}#sk-container-id-1 div.sk-parallel-item:only-child::after {width: 0;}#sk-container-id-1 div.sk-dashed-wrapped {border: 1px dashed gray;margin: 0 0.4em 0.5em 0.4em;box-sizing: border-box;padding-bottom: 0.4em;background-color: white;}#sk-container-id-1 div.sk-label label {font-family: monospace;font-weight: bold;display: inline-block;line-height: 1.2em;}#sk-container-id-1 div.sk-label-container {text-align: center;}#sk-container-id-1 div.sk-container {/* jupyter's `normalize.less` sets `[hidden] { display: none; }` but bootstrap.min.css set `[hidden] { display: none !important; }` so we also need the `!important` here to be able to override the default hidden behavior on the sphinx rendered scikit-learn.org. See: https://github.com/scikit-learn/scikit-learn/issues/21755 */display: inline-block !important;position: relative;}#sk-container-id-1 div.sk-text-repr-fallback {display: none;}</style><div id=\"sk-container-id-1\" class=\"sk-top-container\"><div class=\"sk-text-repr-fallback\"><pre>DecisionTreeClassifier()</pre><b>In a Jupyter environment, please rerun this cell to show the HTML representation or trust the notebook. <br />On GitHub, the HTML representation is unable to render, please try loading this page with nbviewer.org.</b></div><div class=\"sk-container\" hidden><div class=\"sk-item\"><div class=\"sk-estimator sk-toggleable\"><input class=\"sk-toggleable__control sk-hidden--visually\" id=\"sk-estimator-id-1\" type=\"checkbox\" checked><label for=\"sk-estimator-id-1\" class=\"sk-toggleable__label sk-toggleable__label-arrow\">DecisionTreeClassifier</label><div class=\"sk-toggleable__content\"><pre>DecisionTreeClassifier()</pre></div></div></div></div></div>"
      ],
      "text/plain": [
       "DecisionTreeClassifier()"
      ]
     },
     "execution_count": 11,
     "metadata": {},
     "output_type": "execute_result"
    }
   ],
   "source": [
    "DT_model = DecisionTreeClassifier()\n",
    "DT_model.fit(X_train_df, y_train)"
   ]
  },
  {
   "cell_type": "code",
   "execution_count": 12,
   "id": "ee8f79ad",
   "metadata": {},
   "outputs": [
    {
     "name": "stdout",
     "output_type": "stream",
     "text": [
      "The TRAIN classification accuracy is:  1.0\n"
     ]
    }
   ],
   "source": [
    "print(f\"The TRAIN classification accuracy is:  {DT_model.score(X_train_df,y_train)}\")"
   ]
  },
  {
   "cell_type": "code",
   "execution_count": 13,
   "id": "e897b7a2",
   "metadata": {},
   "outputs": [
    {
     "data": {
      "text/plain": [
       "100"
      ]
     },
     "execution_count": 13,
     "metadata": {},
     "output_type": "execute_result"
    }
   ],
   "source": [
    "DT_model.get_depth() # maximum depth until DecisionTreeClassifier reached 100% accuracy"
   ]
  },
  {
   "cell_type": "code",
   "execution_count": 14,
   "id": "d2360e66",
   "metadata": {},
   "outputs": [],
   "source": [
    "best_model = None\n",
    "best_test_acc = -np.inf\n",
    "train_scores = []\n",
    "test_scores = []\n",
    "depths = []\n",
    "for MAX_DEPTH in list(range(1,15)):\n",
    "    depths.append(MAX_DEPTH)\n",
    "    train_DT = DecisionTreeClassifier(max_depth=MAX_DEPTH)\n",
    "    train_DT.fit(X_train_df,y_train)\n",
    "    test_acc = train_DT.score(X_test_df,y_test)\n",
    "    train_acc = train_DT.score(X_train_df,y_train)\n",
    "    test_scores.append(test_acc)\n",
    "    train_scores.append(train_acc)\n",
    "    if test_acc > best_test_acc:\n",
    "        best_model = train_DT,\n",
    "        best_test_acc = test_acc"
   ]
  },
  {
   "cell_type": "code",
   "execution_count": 15,
   "id": "efe12ddb",
   "metadata": {},
   "outputs": [
    {
     "data": {
      "text/plain": [
       "(DecisionTreeClassifier(max_depth=10),)"
      ]
     },
     "execution_count": 15,
     "metadata": {},
     "output_type": "execute_result"
    }
   ],
   "source": [
    "best_model # optimum depth is found to be 10"
   ]
  },
  {
   "cell_type": "code",
   "execution_count": 16,
   "id": "a8fbd98e",
   "metadata": {},
   "outputs": [
    {
     "data": {
      "text/plain": [
       "0.7584239130434782"
      ]
     },
     "execution_count": 16,
     "metadata": {},
     "output_type": "execute_result"
    }
   ],
   "source": [
    "best_test_acc"
   ]
  },
  {
   "cell_type": "code",
   "execution_count": 18,
   "id": "e6592591",
   "metadata": {},
   "outputs": [
    {
     "data": {
      "text/plain": [
       "0.7672381522797035"
      ]
     },
     "execution_count": 18,
     "metadata": {},
     "output_type": "execute_result"
    }
   ],
   "source": [
    "best_train_acc = best_model[0].score(X_train_df,y_train) #best train accuracy\n",
    "best_train_acc"
   ]
  },
  {
   "cell_type": "code",
   "execution_count": 22,
   "id": "8a5851e2",
   "metadata": {},
   "outputs": [
    {
     "data": {
      "image/png": "[encoded data removed]",
      "text/plain": [
       "<Figure size 640x480 with 1 Axes>"
      ]
     },
     "metadata": {},
     "output_type": "display_data"
    }
   ],
   "source": [
    "# plot train and test accuracies for different depth values\n",
    "plt.figure()\n",
    "plt.plot(depths,train_scores,color='blue',label='train')\n",
    "plt.plot(depths,test_scores,color='red',label='test')\n",
    "plt.xlabel(\"Max depth\")\n",
    "plt.ylabel(\"Accuracy\")\n",
    "plt.legend()\n",
    "plt.grid()"
   ]
  },
  {
   "cell_type": "markdown",
   "id": "66f3c519",
   "metadata": {},
   "source": [
    "### Use 20 principle components"
   ]
  },
  {
   "cell_type": "code",
   "execution_count": 24,
   "id": "4120bb4b",
   "metadata": {},
   "outputs": [],
   "source": [
    "# Instantiate & fit PCA model\n",
    "# Default n_components will generate the same number of PCs as you have features \n",
    "# n_components parameter sets the number of features after feature reduction with PCA\n",
    "my_PCA = PCA(n_components = 20)\n",
    "my_PCA.fit(X_train_df)\n",
    "\n",
    "# transform data \n",
    "X_train_PCA = my_PCA.transform(X_train_df)\n",
    "X_test_PCA = my_PCA.transform(X_test_df)"
   ]
  },
  {
   "cell_type": "code",
   "execution_count": 25,
   "id": "e24b2685",
   "metadata": {},
   "outputs": [],
   "source": [
    "# find the optimum max_depth after PCA\n",
    "best_model = None\n",
    "best_test_acc = -np.inf\n",
    "train_scores = []\n",
    "test_scores = []\n",
    "depths = []\n",
    "for MAX_DEPTH in list(range(1,15)):\n",
    "    depths.append(MAX_DEPTH)\n",
    "    train_DT = DecisionTreeClassifier(max_depth=MAX_DEPTH)\n",
    "    train_DT.fit(X_train_PCA,y_train)\n",
    "    test_acc = train_DT.score(X_test_PCA,y_test)\n",
    "    train_acc = train_DT.score(X_train_PCA,y_train)\n",
    "    test_scores.append(test_acc)\n",
    "    train_scores.append(train_acc)\n",
    "    if test_acc > best_test_acc:\n",
    "        best_model = train_DT,\n",
    "        best_test_acc = test_acc"
   ]
  },
  {
   "cell_type": "code",
   "execution_count": 26,
   "id": "b08b2d8d",
   "metadata": {},
   "outputs": [
    {
     "data": {
      "text/plain": [
       "(DecisionTreeClassifier(max_depth=10),)"
      ]
     },
     "execution_count": 26,
     "metadata": {},
     "output_type": "execute_result"
    }
   ],
   "source": [
    "best_model  # optimum depth is found to be 10 again"
   ]
  },
  {
   "cell_type": "code",
   "execution_count": 28,
   "id": "4e435dc2",
   "metadata": {},
   "outputs": [
    {
     "data": {
      "text/plain": [
       "0.750097049689441"
      ]
     },
     "execution_count": 28,
     "metadata": {},
     "output_type": "execute_result"
    }
   ],
   "source": [
    "best_test_acc #slightly lower test accuracy value is obtained after PCA"
   ]
  },
  {
   "cell_type": "code",
   "execution_count": 30,
   "id": "e1effc33",
   "metadata": {},
   "outputs": [
    {
     "data": {
      "text/plain": [
       "0.766608713977135"
      ]
     },
     "execution_count": 30,
     "metadata": {},
     "output_type": "execute_result"
    }
   ],
   "source": [
    "best_train_acc = best_model[0].score(X_train_PCA,y_train) #best train accuracy\n",
    "best_train_acc #slightly lower train accuracy value is obtained after PCA"
   ]
  },
  {
   "cell_type": "code",
   "execution_count": 31,
   "id": "97c55942",
   "metadata": {},
   "outputs": [
    {
     "data": {
      "image/png": "[encoded data removed]",
      "text/plain": [
       "<Figure size 640x480 with 1 Axes>"
      ]
     },
     "metadata": {},
     "output_type": "display_data"
    }
   ],
   "source": [
    "plt.figure()\n",
    "plt.plot(depths,train_scores,color='blue',label='train')\n",
    "plt.plot(depths,test_scores,color='red',label='test')\n",
    "plt.xlabel(\"MAX DEPTH\")\n",
    "plt.ylabel(\"ACCURACIES\")\n",
    "plt.legend()\n",
    "plt.grid()"
   ]
  },
  {
   "cell_type": "markdown",
   "id": "80f68f3f",
   "metadata": {},
   "source": [
    "### Find the optimum minimum sample leaf "
   ]
  },
  {
   "cell_type": "code",
   "execution_count": 39,
   "id": "b47360ed",
   "metadata": {},
   "outputs": [],
   "source": [
    "best_model = None\n",
    "best_test_acc = -np.inf\n",
    "train_scores = []\n",
    "test_scores = []\n",
    "leaves = []\n",
    "for MIN_SAMPLE_LEAF in list(range(1,5)):\n",
    "    leaves.append(MIN_SAMPLE_LEAF)\n",
    "    train_DT = DecisionTreeClassifier(max_depth=10,min_samples_leaf=MIN_SAMPLE_LEAF)\n",
    "    train_DT.fit(X_train_PCA,y_train)\n",
    "    test_acc = train_DT.score(X_test_PCA,y_test)\n",
    "    train_acc = train_DT.score(X_train_PCA,y_train)\n",
    "    test_scores.append(test_acc)\n",
    "    train_scores.append(train_acc)\n",
    "    if test_acc > best_test_acc:\n",
    "        best_model = train_DT,\n",
    "        best_test_acc = test_acc"
   ]
  },
  {
   "cell_type": "code",
   "execution_count": 40,
   "id": "51e3c703",
   "metadata": {},
   "outputs": [
    {
     "data": {
      "text/plain": [
       "(DecisionTreeClassifier(max_depth=10, min_samples_leaf=3),)"
      ]
     },
     "execution_count": 40,
     "metadata": {},
     "output_type": "execute_result"
    }
   ],
   "source": [
    "best_model # optimum minimum sample leaf is found to be 3"
   ]
  },
  {
   "cell_type": "code",
   "execution_count": 41,
   "id": "94780e21",
   "metadata": {},
   "outputs": [
    {
     "data": {
      "text/plain": [
       "0.7502587991718427"
      ]
     },
     "execution_count": 41,
     "metadata": {},
     "output_type": "execute_result"
    }
   ],
   "source": [
    "best_test_acc # slightly higher with the addition of 'min_samples_leaf' parameter"
   ]
  },
  {
   "cell_type": "code",
   "execution_count": 42,
   "id": "0f7542ef",
   "metadata": {},
   "outputs": [
    {
     "data": {
      "text/plain": [
       "0.7664839354590047"
      ]
     },
     "execution_count": 42,
     "metadata": {},
     "output_type": "execute_result"
    }
   ],
   "source": [
    "best_train_acc = best_model[0].score(X_train_PCA,y_train) #best train accuracy\n",
    "best_train_acc #slightly lower train accuracy value is obtained after PCA"
   ]
  },
  {
   "cell_type": "code",
   "execution_count": 43,
   "id": "1771676b",
   "metadata": {},
   "outputs": [
    {
     "data": {
      "image/png": "[encoded data removed]",
      "text/plain": [
       "<Figure size 640x480 with 1 Axes>"
      ]
     },
     "metadata": {},
     "output_type": "display_data"
    }
   ],
   "source": [
    "plt.figure()\n",
    "plt.plot(leaves,train_scores,color='blue',label='train')\n",
    "plt.plot(leaves,test_scores,color='red',label='test')\n",
    "plt.xlabel(\"MIN SAMPLE LEAF\")\n",
    "plt.ylabel(\"ACCURACIES\")\n",
    "plt.legend()\n",
    "plt.grid()"
   ]
  },
  {
   "cell_type": "markdown",
   "id": "c9882bf2",
   "metadata": {},
   "source": [
    "### Pipeline"
   ]
  },
  {
   "cell_type": "code",
   "execution_count": 44,
   "id": "b659f5e5",
   "metadata": {},
   "outputs": [
    {
     "name": "stdout",
     "output_type": "stream",
     "text": [
      "Fitting 5 folds for each of 1 candidates, totalling 5 fits\n"
     ]
    }
   ],
   "source": [
    "estimators = [('pca',PCA()),\n",
    "              ('model', DecisionTreeClassifier())]\n",
    "\n",
    "pipe = Pipeline(estimators)\n",
    "\n",
    "param_grid = [{'pca__n_components': [20],\n",
    "               'model__max_depth': [10],\n",
    "               'model__min_samples_leaf':[3]\n",
    "              }]\n",
    "scoring_grid = ['accuracy', 'precision', 'recall', 'f1', 'roc_auc']\n",
    "\n",
    "grid = GridSearchCV(pipe, \n",
    "                    param_grid, \n",
    "                    cv=5,\n",
    "                    verbose=2,\n",
    "                    n_jobs=-1,\n",
    "                    scoring=scoring_grid,\n",
    "                    refit='accuracy' # balanced distribution so we can use accuracy to refit\n",
    "                   )\n",
    "fittedgrid = grid.fit(X_train_df, y_train)"
   ]
  },
  {
   "cell_type": "code",
   "execution_count": 45,
   "id": "9c17a99c",
   "metadata": {},
   "outputs": [
    {
     "data": {
      "text/plain": [
       "0.750194099378882"
      ]
     },
     "execution_count": 45,
     "metadata": {},
     "output_type": "execute_result"
    }
   ],
   "source": [
    "fittedgrid.score(X_test_df, y_test) "
   ]
  },
  {
   "cell_type": "code",
   "execution_count": 55,
   "id": "b3b7b2a6",
   "metadata": {},
   "outputs": [
    {
     "data": {
      "text/plain": [
       "0.765810131461101"
      ]
     },
     "execution_count": 55,
     "metadata": {},
     "output_type": "execute_result"
    }
   ],
   "source": [
    "fittedgrid.score(X_train_df, y_train) "
   ]
  },
  {
   "cell_type": "code",
   "execution_count": 56,
   "id": "fd2958e3",
   "metadata": {},
   "outputs": [
    {
     "name": "stdout",
     "output_type": "stream",
     "text": [
      "Train score: 0.765810131461101\n",
      "Test score: 0.750194099378882\n"
     ]
    }
   ],
   "source": [
    "print(f\"Train score: {fittedgrid.score(X_train_df, y_train)}\")\n",
    "print(f\"Test score: {fittedgrid.score(X_test_df, y_test)}\")"
   ]
  },
  {
   "cell_type": "code",
   "execution_count": 46,
   "id": "259c04f3",
   "metadata": {},
   "outputs": [
    {
     "data": {
      "text/plain": [
       "{'mean_fit_time': array([79.79726014]),\n",
       " 'std_fit_time': array([0.72547752]),\n",
       " 'mean_score_time': array([0.75645971]),\n",
       " 'std_score_time': array([0.05381926]),\n",
       " 'param_model__max_depth': masked_array(data=[10],\n",
       "              mask=[False],\n",
       "        fill_value='?',\n",
       "             dtype=object),\n",
       " 'param_model__min_samples_leaf': masked_array(data=[3],\n",
       "              mask=[False],\n",
       "        fill_value='?',\n",
       "             dtype=object),\n",
       " 'param_pca__n_components': masked_array(data=[20],\n",
       "              mask=[False],\n",
       "        fill_value='?',\n",
       "             dtype=object),\n",
       " 'params': [{'model__max_depth': 10,\n",
       "   'model__min_samples_leaf': 3,\n",
       "   'pca__n_components': 20}],\n",
       " 'split0_test_accuracy': array([0.74767081]),\n",
       " 'split1_test_accuracy': array([0.74857198]),\n",
       " 'split2_test_accuracy': array([0.75009705]),\n",
       " 'split3_test_accuracy': array([0.74527229]),\n",
       " 'split4_test_accuracy': array([0.74934491]),\n",
       " 'mean_test_accuracy': array([0.74819141]),\n",
       " 'std_test_accuracy': array([0.00166728]),\n",
       " 'rank_test_accuracy': array([1], dtype=int32),\n",
       " 'split0_test_precision': array([0.75733148]),\n",
       " 'split1_test_precision': array([0.75841522]),\n",
       " 'split2_test_precision': array([0.76327489]),\n",
       " 'split3_test_precision': array([0.75952082]),\n",
       " 'split4_test_precision': array([0.7638504]),\n",
       " 'mean_test_precision': array([0.76047856]),\n",
       " 'std_test_precision': array([0.00261792]),\n",
       " 'rank_test_precision': array([1], dtype=int32),\n",
       " 'split0_test_recall': array([0.82020914]),\n",
       " 'split1_test_recall': array([0.82025778]),\n",
       " 'split2_test_recall': array([0.8141537]),\n",
       " 'split3_test_recall': array([0.80948444]),\n",
       " 'split4_test_recall': array([0.81108949]),\n",
       " 'mean_test_recall': array([0.81503891]),\n",
       " 'std_test_recall': array([0.00449892]),\n",
       " 'rank_test_recall': array([1], dtype=int32),\n",
       " 'split0_test_f1': array([0.78751722]),\n",
       " 'split1_test_f1': array([0.7881252]),\n",
       " 'split2_test_f1': array([0.78789376]),\n",
       " 'split3_test_f1': array([0.7837071]),\n",
       " 'split4_test_f1': array([0.7867615]),\n",
       " 'mean_test_f1': array([0.78680096]),\n",
       " 'std_test_f1': array([0.00161458]),\n",
       " 'rank_test_f1': array([1], dtype=int32),\n",
       " 'split0_test_roc_auc': array([0.82038808]),\n",
       " 'split1_test_roc_auc': array([0.82032539]),\n",
       " 'split2_test_roc_auc': array([0.8193036]),\n",
       " 'split3_test_roc_auc': array([0.81769291]),\n",
       " 'split4_test_roc_auc': array([0.82029817]),\n",
       " 'mean_test_roc_auc': array([0.81960163]),\n",
       " 'std_test_roc_auc': array([0.00103533]),\n",
       " 'rank_test_roc_auc': array([1], dtype=int32)}"
      ]
     },
     "execution_count": 46,
     "metadata": {},
     "output_type": "execute_result"
    }
   ],
   "source": [
    "fittedgrid.cv_results_"
   ]
  },
  {
   "cell_type": "code",
   "execution_count": 47,
   "id": "441a488b",
   "metadata": {},
   "outputs": [
    {
     "data": {
      "text/html": [
       "<style>#sk-container-id-2 {color: black;}#sk-container-id-2 pre{padding: 0;}#sk-container-id-2 div.sk-toggleable {background-color: white;}#sk-container-id-2 label.sk-toggleable__label {cursor: pointer;display: block;width: 100%;margin-bottom: 0;padding: 0.3em;box-sizing: border-box;text-align: center;}#sk-container-id-2 label.sk-toggleable__label-arrow:before {content: \"▸\";float: left;margin-right: 0.25em;color: #696969;}#sk-container-id-2 label.sk-toggleable__label-arrow:hover:before {color: black;}#sk-container-id-2 div.sk-estimator:hover label.sk-toggleable__label-arrow:before {color: black;}#sk-container-id-2 div.sk-toggleable__content {max-height: 0;max-width: 0;overflow: hidden;text-align: left;background-color: #f0f8ff;}#sk-container-id-2 div.sk-toggleable__content pre {margin: 0.2em;color: black;border-radius: 0.25em;background-color: #f0f8ff;}#sk-container-id-2 input.sk-toggleable__control:checked~div.sk-toggleable__content {max-height: 200px;max-width: 100%;overflow: auto;}#sk-container-id-2 input.sk-toggleable__control:checked~label.sk-toggleable__label-arrow:before {content: \"▾\";}#sk-container-id-2 div.sk-estimator input.sk-toggleable__control:checked~label.sk-toggleable__label {background-color: #d4ebff;}#sk-container-id-2 div.sk-label input.sk-toggleable__control:checked~label.sk-toggleable__label {background-color: #d4ebff;}#sk-container-id-2 input.sk-hidden--visually {border: 0;clip: rect(1px 1px 1px 1px);clip: rect(1px, 1px, 1px, 1px);height: 1px;margin: -1px;overflow: hidden;padding: 0;position: absolute;width: 1px;}#sk-container-id-2 div.sk-estimator {font-family: monospace;background-color: #f0f8ff;border: 1px dotted black;border-radius: 0.25em;box-sizing: border-box;margin-bottom: 0.5em;}#sk-container-id-2 div.sk-estimator:hover {background-color: #d4ebff;}#sk-container-id-2 div.sk-parallel-item::after {content: \"\";width: 100%;border-bottom: 1px solid gray;flex-grow: 1;}#sk-container-id-2 div.sk-label:hover label.sk-toggleable__label {background-color: #d4ebff;}#sk-container-id-2 div.sk-serial::before {content: \"\";position: absolute;border-left: 1px solid gray;box-sizing: border-box;top: 0;bottom: 0;left: 50%;z-index: 0;}#sk-container-id-2 div.sk-serial {display: flex;flex-direction: column;align-items: center;background-color: white;padding-right: 0.2em;padding-left: 0.2em;position: relative;}#sk-container-id-2 div.sk-item {position: relative;z-index: 1;}#sk-container-id-2 div.sk-parallel {display: flex;align-items: stretch;justify-content: center;background-color: white;position: relative;}#sk-container-id-2 div.sk-item::before, #sk-container-id-2 div.sk-parallel-item::before {content: \"\";position: absolute;border-left: 1px solid gray;box-sizing: border-box;top: 0;bottom: 0;left: 50%;z-index: -1;}#sk-container-id-2 div.sk-parallel-item {display: flex;flex-direction: column;z-index: 1;position: relative;background-color: white;}#sk-container-id-2 div.sk-parallel-item:first-child::after {align-self: flex-end;width: 50%;}#sk-container-id-2 div.sk-parallel-item:last-child::after {align-self: flex-start;width: 50%;}#sk-container-id-2 div.sk-parallel-item:only-child::after {width: 0;}#sk-container-id-2 div.sk-dashed-wrapped {border: 1px dashed gray;margin: 0 0.4em 0.5em 0.4em;box-sizing: border-box;padding-bottom: 0.4em;background-color: white;}#sk-container-id-2 div.sk-label label {font-family: monospace;font-weight: bold;display: inline-block;line-height: 1.2em;}#sk-container-id-2 div.sk-label-container {text-align: center;}#sk-container-id-2 div.sk-container {/* jupyter's `normalize.less` sets `[hidden] { display: none; }` but bootstrap.min.css set `[hidden] { display: none !important; }` so we also need the `!important` here to be able to override the default hidden behavior on the sphinx rendered scikit-learn.org. See: https://github.com/scikit-learn/scikit-learn/issues/21755 */display: inline-block !important;position: relative;}#sk-container-id-2 div.sk-text-repr-fallback {display: none;}</style><div id=\"sk-container-id-2\" class=\"sk-top-container\"><div class=\"sk-text-repr-fallback\"><pre>Pipeline(steps=[(&#x27;pca&#x27;, PCA(n_components=20)),\n",
       "                (&#x27;model&#x27;,\n",
       "                 DecisionTreeClassifier(max_depth=10, min_samples_leaf=3))])</pre><b>In a Jupyter environment, please rerun this cell to show the HTML representation or trust the notebook. <br />On GitHub, the HTML representation is unable to render, please try loading this page with nbviewer.org.</b></div><div class=\"sk-container\" hidden><div class=\"sk-item sk-dashed-wrapped\"><div class=\"sk-label-container\"><div class=\"sk-label sk-toggleable\"><input class=\"sk-toggleable__control sk-hidden--visually\" id=\"sk-estimator-id-2\" type=\"checkbox\" ><label for=\"sk-estimator-id-2\" class=\"sk-toggleable__label sk-toggleable__label-arrow\">Pipeline</label><div class=\"sk-toggleable__content\"><pre>Pipeline(steps=[(&#x27;pca&#x27;, PCA(n_components=20)),\n",
       "                (&#x27;model&#x27;,\n",
       "                 DecisionTreeClassifier(max_depth=10, min_samples_leaf=3))])</pre></div></div></div><div class=\"sk-serial\"><div class=\"sk-item\"><div class=\"sk-estimator sk-toggleable\"><input class=\"sk-toggleable__control sk-hidden--visually\" id=\"sk-estimator-id-3\" type=\"checkbox\" ><label for=\"sk-estimator-id-3\" class=\"sk-toggleable__label sk-toggleable__label-arrow\">PCA</label><div class=\"sk-toggleable__content\"><pre>PCA(n_components=20)</pre></div></div></div><div class=\"sk-item\"><div class=\"sk-estimator sk-toggleable\"><input class=\"sk-toggleable__control sk-hidden--visually\" id=\"sk-estimator-id-4\" type=\"checkbox\" ><label for=\"sk-estimator-id-4\" class=\"sk-toggleable__label sk-toggleable__label-arrow\">DecisionTreeClassifier</label><div class=\"sk-toggleable__content\"><pre>DecisionTreeClassifier(max_depth=10, min_samples_leaf=3)</pre></div></div></div></div></div></div></div>"
      ],
      "text/plain": [
       "Pipeline(steps=[('pca', PCA(n_components=20)),\n",
       "                ('model',\n",
       "                 DecisionTreeClassifier(max_depth=10, min_samples_leaf=3))])"
      ]
     },
     "execution_count": 47,
     "metadata": {},
     "output_type": "execute_result"
    }
   ],
   "source": [
    "fittedgrid.best_estimator_"
   ]
  },
  {
   "cell_type": "markdown",
   "id": "e99f2043",
   "metadata": {},
   "source": [
    "Logistic regression model accuracy values:\n",
    "- Train score: 0.7946838805564568\n",
    "- Test score: 0.7912202380952381\n",
    "\n",
    "Decision tree model accuracy values:\n",
    "- Train score: 0.765810131461101\n",
    "- Test score: 0.750194099378882\n",
    "\n",
    "Both models exhibit moderate accuracy values, with the logistic regression model performing slightly better."
   ]
  },
  {
   "cell_type": "markdown",
   "id": "d93177bc",
   "metadata": {},
   "source": [
    "5. For your best performing model, conduct a more in-depth evaluation by analyzing the confusion matrix and commenting on the model errors and metrics such as precision and recall."
   ]
  },
  {
   "cell_type": "markdown",
   "id": "c26f8780",
   "metadata": {},
   "source": [
    "### Confusion Matrix"
   ]
  },
  {
   "cell_type": "code",
   "execution_count": 57,
   "id": "75ab6d9f",
   "metadata": {},
   "outputs": [],
   "source": [
    "y_pred = fittedgrid.best_estimator_.predict(X_test_df)"
   ]
  },
  {
   "cell_type": "code",
   "execution_count": 58,
   "id": "09f4ec0d",
   "metadata": {},
   "outputs": [
    {
     "data": {
      "text/plain": [
       "array([[44425, 22020],\n",
       "       [16590, 71525]])"
      ]
     },
     "execution_count": 58,
     "metadata": {},
     "output_type": "execute_result"
    }
   ],
   "source": [
    "from sklearn.metrics import confusion_matrix,ConfusionMatrixDisplay\n",
    "confusion_matrix(y_test, y_pred)"
   ]
  },
  {
   "cell_type": "code",
   "execution_count": 59,
   "id": "93014911",
   "metadata": {},
   "outputs": [
    {
     "data": {
      "image/png": "[encoded data removed]",
      "text/plain": [
       "<Figure size 640x480 with 2 Axes>"
      ]
     },
     "metadata": {},
     "output_type": "display_data"
    }
   ],
   "source": [
    "cm = confusion_matrix(y_test, y_pred, labels=fittedgrid.classes_)\n",
    "disp = ConfusionMatrixDisplay(confusion_matrix=cm, display_labels=fittedgrid.classes_)\n",
    "disp.plot()\n",
    "plt.show()"
   ]
  },
  {
   "cell_type": "code",
   "execution_count": 61,
   "id": "dd382103",
   "metadata": {},
   "outputs": [
    {
     "name": "stdout",
     "output_type": "stream",
     "text": [
      "44425 16590 22020 71525\n"
     ]
    }
   ],
   "source": [
    "TN = cm[0,0]\n",
    "FN = cm[1,0]\n",
    "FP = cm[0,1]\n",
    "TP = cm[1,1]\n",
    "print(TN,FN,FP,TP)"
   ]
  },
  {
   "cell_type": "code",
   "execution_count": 66,
   "id": "3314c564",
   "metadata": {},
   "outputs": [
    {
     "data": {
      "text/plain": [
       "0.7646052701908173"
      ]
     },
     "execution_count": 66,
     "metadata": {},
     "output_type": "execute_result"
    }
   ],
   "source": [
    "precision_dt = TP/(TP+FP)\n",
    "precision_dt"
   ]
  },
  {
   "cell_type": "code",
   "execution_count": 67,
   "id": "4b1f8b93",
   "metadata": {},
   "outputs": [
    {
     "data": {
      "text/plain": [
       "0.8117233161209783"
      ]
     },
     "execution_count": 67,
     "metadata": {},
     "output_type": "execute_result"
    }
   ],
   "source": [
    "recall_dt = TP/(TP+FN)\n",
    "recall_dt"
   ]
  },
  {
   "cell_type": "code",
   "execution_count": 68,
   "id": "74078208",
   "metadata": {},
   "outputs": [
    {
     "name": "stdout",
     "output_type": "stream",
     "text": [
      "Decision Tree Precision score: 0.7646052701908173\n",
      "Decision Tree Recall score: 0.8117233161209783\n"
     ]
    }
   ],
   "source": [
    "print(f\"Decision Tree Precision score: {precision_dt}\")\n",
    "print(f\"Decision Tree Recall score: {recall_dt}\")"
   ]
  },
  {
   "cell_type": "markdown",
   "id": "33ee1aa4",
   "metadata": {},
   "source": [
    "Logistic regression model precision and recall values:\n",
    "- LogReg Precision score: 0.80\n",
    "- LogReg Recall score: 0.84\n",
    "\n",
    "Decision tree model precision and recall values:\n",
    "- Decision Tree Precision score: 0.76\n",
    "- Decision Tree Recall score: 0.81"
   ]
  },
  {
   "cell_type": "markdown",
   "id": "80779480",
   "metadata": {},
   "source": [
    "Regarding the precision score, it's evident that logistic regression outperforms the decision tree model, signifying that among all the instances it predicted as positive, logistic regression had a better ability to correctly identify true positives.\n",
    "\n",
    "Similarly, in terms of the recall score, logistic regression excels, indicating that among all the actual positive cases in real life, logistic regression had a superior capability to accurately detect true positives."
   ]
  }
 ],
 "metadata": {
  "kernelspec": {
   "display_name": "Python 3 (ipykernel)",
   "language": "python",
   "name": "python3"
  },
  "language_info": {
   "codemirror_mode": {
    "name": "ipython",
    "version": 3
   },
   "file_extension": ".py",
   "mimetype": "text/x-python",
   "name": "python",
   "nbconvert_exporter": "python",
   "pygments_lexer": "ipython3",
   "version": "3.11.4"
  }
 },
 "nbformat": 4,
 "nbformat_minor": 5
}
